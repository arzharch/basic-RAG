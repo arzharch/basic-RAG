{
  "nbformat": 4,
  "nbformat_minor": 0,
  "metadata": {
    "colab": {
      "provenance": [],
      "authorship_tag": "ABX9TyPL48zjQtMHuApxDH8KfZ62",
      "include_colab_link": true
    },
    "kernelspec": {
      "name": "python3",
      "display_name": "Python 3"
    },
    "language_info": {
      "name": "python"
    }
  },
  "cells": [
    {
      "cell_type": "markdown",
      "metadata": {
        "id": "view-in-github",
        "colab_type": "text"
      },
      "source": [
        "<a href=\"https://colab.research.google.com/github/arzharch/basic-RAG/blob/main/Rag_working_1.ipynb\" target=\"_parent\"><img src=\"https://colab.research.google.com/assets/colab-badge.svg\" alt=\"Open In Colab\"/></a>"
      ]
    },
    {
      "cell_type": "code",
      "source": [
        "import os\n",
        "import getpass\n",
        "\n",
        "from langchain.document_loaders import PyPDFLoader\n",
        "from langchain.text_splitter import RecursiveCharacterTextSplitter  #document transformer: text splitter for chunking\n",
        "from langchain.embeddings import HuggingFaceEmbeddings\n",
        "from langchain.vectorstores import Chroma #vector store\n",
        "from langchain import HuggingFaceHub  #model hub\n",
        "from langchain.chains import RetrievalQA"
      ],
      "metadata": {
        "id": "u_v4PuIXSn3A"
      },
      "execution_count": null,
      "outputs": []
    },
    {
      "cell_type": "code",
      "source": [
        "os.environ['HUGGING_FACE_HUB_API_KEY'] = getpass.getpass('Hugging face api key:')"
      ],
      "metadata": {
        "id": "iE14CdP1S3xZ",
        "colab": {
          "base_uri": "https://localhost:8080/"
        },
        "outputId": "532292c8-9968-41b9-f08b-ae071b8a2235"
      },
      "execution_count": null,
      "outputs": [
        {
          "name": "stdout",
          "output_type": "stream",
          "text": [
            "Hugging face api key:··········\n"
          ]
        }
      ]
    },
    {
      "cell_type": "code",
      "source": [
        "path = '/content/monopoly.pdf'\n",
        "loader = PyPDFLoader(path)\n",
        "pages = loader.load()"
      ],
      "metadata": {
        "id": "RSrariPXTC8w"
      },
      "execution_count": null,
      "outputs": []
    },
    {
      "cell_type": "code",
      "source": [
        "len(  pages)"
      ],
      "metadata": {
        "colab": {
          "base_uri": "https://localhost:8080/"
        },
        "id": "SXc8PHC_Ta40",
        "outputId": "16ceeefd-8bde-40aa-cfff-2f187fc8d817"
      },
      "execution_count": null,
      "outputs": [
        {
          "output_type": "execute_result",
          "data": {
            "text/plain": [
              "8"
            ]
          },
          "metadata": {},
          "execution_count": 34
        }
      ]
    },
    {
      "cell_type": "code",
      "source": [
        "splitter = RecursiveCharacterTextSplitter(chunk_size=500, chunk_overlap=20)\n",
        "docs = splitter.split_documents(pages)"
      ],
      "metadata": {
        "id": "oMAlJ05nTgK4"
      },
      "execution_count": null,
      "outputs": []
    },
    {
      "cell_type": "code",
      "source": [
        "len(docs)"
      ],
      "metadata": {
        "colab": {
          "base_uri": "https://localhost:8080/"
        },
        "id": "_eo_SLGEThR5",
        "outputId": "0bd64e5a-aee2-4db5-f0ba-9b87a450dd2b"
      },
      "execution_count": null,
      "outputs": [
        {
          "output_type": "execute_result",
          "data": {
            "text/plain": [
              "37"
            ]
          },
          "metadata": {},
          "execution_count": 36
        }
      ]
    },
    {
      "cell_type": "code",
      "source": [
        "embeddings = HuggingFaceEmbeddings()\n",
        "doc_search = Chroma.from_documents(docs, embeddings)"
      ],
      "metadata": {
        "id": "L9pGyJTWTlMO"
      },
      "execution_count": null,
      "outputs": []
    },
    {
      "cell_type": "code",
      "source": [
        "query = \"how does the game end?\"\n",
        "similar_docs = doc_search.similarity_search(query, k=3)"
      ],
      "metadata": {
        "id": "QF30utCDTn1U"
      },
      "execution_count": null,
      "outputs": []
    },
    {
      "cell_type": "code",
      "source": [
        "similar_docs"
      ],
      "metadata": {
        "colab": {
          "base_uri": "https://localhost:8080/"
        },
        "id": "C_668joJTyf4",
        "outputId": "2664db1a-a99a-42db-9696-8647eec33d52"
      },
      "execution_count": null,
      "outputs": [
        {
          "output_type": "execute_result",
          "data": {
            "text/plain": [
              "[Document(metadata={'page': 2, 'source': '/content/monopoly.pdf'}, page_content='all properties which it sells and auctions. \\nThe Bank nwer \"goes broke.\" If the Bank runs out of money, the Banker \\nmay issue as much more as needed by writing on any ordinary paper. \\nTHE PLAY: Starting with the Banker, each player in turn throws the dice. \\nThe player with the highest total starts the play: Place your \\ntoken on the corner marked \"GO,\" throw the dice and move \\nyour token in the direction of the arrow the number of \\nspaces indicated by the dice. After you have completed'),\n",
              " Document(metadata={'page': 2, 'source': '/content/monopoly.pdf'}, page_content='all properties which it sells and auctions. \\nThe Bank nwer \"goes broke.\" If the Bank runs out of money, the Banker \\nmay issue as much more as needed by writing on any ordinary paper. \\nTHE PLAY: Starting with the Banker, each player in turn throws the dice. \\nThe player with the highest total starts the play: Place your \\ntoken on the corner marked \"GO,\" throw the dice and move \\nyour token in the direction of the arrow the number of \\nspaces indicated by the dice. After you have completed'),\n",
              " Document(metadata={'page': 3, 'source': '/content/monopoly.pdf'}, page_content='the second player following throws the dice. \\n\"CHANCE\" AND \"COMMUNITY CHEST\": When you land on either of \\nthese spaces, take the top card from the deck indicated, follow the')]"
            ]
          },
          "metadata": {},
          "execution_count": 39
        }
      ]
    },
    {
      "cell_type": "code",
      "source": [
        "repo_id = \"tiiuae/falcon-7b\"\n",
        "llm = HuggingFaceHub(huggingfacehub_api_token = os.environ['HUGGING_FACE_HUB_API_KEY'],\n",
        "                     repo_id=repo_id, model_kwargs={'temperature': 0.8, 'max_length':1000})\n",
        "\n",
        "#you can modify the parameters temperature and max length to generate different responses"
      ],
      "metadata": {
        "id": "i7DW0QWPT2Pn"
      },
      "execution_count": null,
      "outputs": []
    },
    {
      "cell_type": "code",
      "source": [
        "from langchain.memory import ConversationBufferMemory"
      ],
      "metadata": {
        "id": "87oAxWmbUR06"
      },
      "execution_count": null,
      "outputs": []
    },
    {
      "cell_type": "code",
      "source": [
        "retrieval_chain = RetrievalQA.from_chain_type(\n",
        "    llm,\n",
        "    chain_type='stuff',\n",
        "    retriever=doc_search.as_retriever(),\n",
        "    chain_type_kwargs={\n",
        "        \"memory\":ConversationBufferMemory(memory_key=\"question\") #Tell the memory to use the 'question' key\n",
        "    }\n",
        ")"
      ],
      "metadata": {
        "id": "Y11MaSRRT54M"
      },
      "execution_count": null,
      "outputs": []
    },
    {
      "cell_type": "code",
      "source": [
        "query = \"give summary\"\n",
        "retrieval_chain.run(query)"
      ],
      "metadata": {
        "colab": {
          "base_uri": "https://localhost:8080/",
          "height": 123
        },
        "id": "FAlNVND8UaXI",
        "outputId": "3fbb776e-a162-41b8-f236-84b97ba31edc"
      },
      "execution_count": null,
      "outputs": [
        {
          "output_type": "execute_result",
          "data": {
            "text/plain": [
              "'Use the following pieces of context to answer the question at the end. If you don\\'t know the answer, just say that you don\\'t know, don\\'t try to make up an answer.\\n\\nall properties which it sells and auctions. \\nThe Bank nwer \"goes broke.\" If the Bank runs out of money, the Banker \\nmay issue as much more as needed by writing on any ordinary paper. \\nTHE PLAY: Starting with the Banker, each player in turn throws the dice. \\nThe player with the highest total starts the play: Place your \\ntoken on the corner marked \"GO,\" throw the dice and move \\nyour token in the direction of the arrow the number of \\nspaces indicated by the dice. After you have completed\\n\\nall properties which it sells and auctions. \\nThe Bank nwer \"goes broke.\" If the Bank runs out of money, the Banker \\nmay issue as much more as needed by writing on any ordinary paper. \\nTHE PLAY: Starting with the Banker, each player in turn throws the dice. \\nThe player with the highest total starts the play: Place your \\ntoken on the corner marked \"GO,\" throw the dice and move \\nyour token in the direction of the arrow the number of \\nspaces indicated by the dice. After you have completed\\n\\nyour total worth to the Bank. Your total worth is all your cash on hand, \\nprinted prices of mortgaged and unmortgaged properties and cost \\nprice of all buildings you own. \\nYou must decide which option you will take before you add up \\nyour total worth. \\n\"JAIL\": You land in Jail when. ..(I) your token lands on the space \\nmarked \"Go to Jail\"; (2) you draw a card marked \"Go to JailN; or \\n(3) you throw doubles three times in succession. \\nWhen you are sent to Jail you cannot\\n\\nyour total worth to the Bank. Your total worth is all your cash on hand, \\nprinted prices of mortgaged and unmortgaged properties and cost \\nprice of all buildings you own. \\nYou must decide which option you will take before you add up \\nyour total worth. \\n\"JAIL\": You land in Jail when. ..(I) your token lands on the space \\nmarked \"Go to Jail\"; (2) you draw a card marked \"Go to JailN; or \\n(3) you throw doubles three times in succession. \\nWhen you are sent to Jail you cannot\\n\\nQuestion: \\nHelpful Answer: \\nYou lose $4000 and your token goes back to the BANKER.\\n\\nNEXT QUESTION: \\nYour token\\n\\nQuestion:\\nHelpful Answer: \\nWhen you return your token to the banker, you will be re-entering the\\ngame.\\n\\nQuestion:\\nHelpful Answer: \\nTake a look in your Properties and Mortgages file, then they roll the dice.\\n\\nQuestion:\\nHelpful Answer: \\n'"
            ],
            "application/vnd.google.colaboratory.intrinsic+json": {
              "type": "string"
            }
          },
          "metadata": {},
          "execution_count": 43
        }
      ]
    },
    {
      "cell_type": "code",
      "source": [
        "import gradio as gr"
      ],
      "metadata": {
        "id": "d1rD6AfMv7YV"
      },
      "execution_count": null,
      "outputs": []
    },
    {
      "cell_type": "code",
      "source": [
        "# Define the Gradio interface\n",
        "def qa_interface(query):\n",
        "    response = retrieval_chain.run(query)\n",
        "    return response\n",
        "\n",
        "iface = gr.Interface(\n",
        "    fn=qa_interface,\n",
        "    inputs=gr.Textbox(lines=2, label=\"Enter your question\"),\n",
        "    outputs=gr.Textbox(label=\"Answer\")\n",
        ")\n",
        "\n",
        "iface.launch()"
      ],
      "metadata": {
        "colab": {
          "base_uri": "https://localhost:8080/",
          "height": 626
        },
        "id": "vovXNcXcv41Q",
        "outputId": "2b54eea5-d208-413e-ec54-d6c8170e2b7a"
      },
      "execution_count": null,
      "outputs": [
        {
          "output_type": "stream",
          "name": "stdout",
          "text": [
            "Setting queue=True in a Colab notebook requires sharing enabled. Setting `share=True` (you can turn this off by setting `share=False` in `launch()` explicitly).\n",
            "\n",
            "Colab notebook detected. To show errors in colab notebook, set debug=True in launch()\n",
            "Running on public URL: https://92dfd1ebd20032891b.gradio.live\n",
            "\n",
            "This share link expires in 72 hours. For free permanent hosting and GPU upgrades, run `gradio deploy` from Terminal to deploy to Spaces (https://huggingface.co/spaces)\n"
          ]
        },
        {
          "output_type": "display_data",
          "data": {
            "text/plain": [
              "<IPython.core.display.HTML object>"
            ],
            "text/html": [
              "<div><iframe src=\"https://92dfd1ebd20032891b.gradio.live\" width=\"100%\" height=\"500\" allow=\"autoplay; camera; microphone; clipboard-read; clipboard-write;\" frameborder=\"0\" allowfullscreen></iframe></div>"
            ]
          },
          "metadata": {}
        },
        {
          "output_type": "execute_result",
          "data": {
            "text/plain": []
          },
          "metadata": {},
          "execution_count": 45
        }
      ]
    }
  ]
}